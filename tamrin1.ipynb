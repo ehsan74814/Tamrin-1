{
 "cells": [
  {
   "cell_type": "code",
   "execution_count": 1,
   "id": "75bcde67-a7dc-4888-a300-93c192e87a73",
   "metadata": {},
   "outputs": [],
   "source": [
    "import pandas as pd\n",
    "from pandas import read_csv\n",
    "import numpy as np\n",
    "from sklearn.preprocessing import StandardScaler, MinMaxScaler, OneHotEncoder, LabelEncoder, PolynomialFeatures\n",
    "from sklearn.model_selection import train_test_split\n",
    "from sklearn.linear_model import LogisticRegression\n",
    "from sklearn.metrics import confusion_matrix,accuracy_score,recall_score,precision_score,f1_score,classification_report"
   ]
  },
  {
   "cell_type": "code",
   "execution_count": null,
   "id": "dd482fdf-23f6-4c01-acaf-301d50a74e6f",
   "metadata": {},
   "outputs": [],
   "source": [
    "# Load dataset\n",
    "df = pd.read_csv(\"loans.csv\")\n",
    "df.head()\n"
   ]
  },
  {
   "cell_type": "code",
   "execution_count": null,
   "id": "23aa4db5-9015-474e-8472-0712474bb130",
   "metadata": {},
   "outputs": [],
   "source": [
    "print('the shape of data farme is: ', df.shape)\n",
    "df.columns\n",
    "print('types of data farme is: ', df.dtypes)\n",
    "df.duplicated().sum()\n",
    "df.nunique()\n",
    "df.info()\n",
    "df.describe()\n",
    "df.isnull().sum()\n",
    "df.corr(numeric_only=True)"
   ]
  },
  {
   "cell_type": "code",
   "execution_count": null,
   "id": "c8c7f361-e53a-4356-871b-52e4290ab360",
   "metadata": {},
   "outputs": [],
   "source": []
  },
  {
   "cell_type": "code",
   "execution_count": null,
   "id": "eb0af0d3-796c-422f-82de-e37a7ff77805",
   "metadata": {
    "scrolled": true
   },
   "outputs": [],
   "source": [
    "print(df['client_id'].value_counts())\n",
    "\n",
    "print(df['loan_type'].value_counts())\n",
    "\n",
    "print(df['loan_amount'].value_counts())\n",
    "\n",
    "print(df['repaid'].value_counts())\n",
    "\n",
    "print(df['loan_id'].value_counts())\n",
    "\n",
    "print(df['loan_start'].value_counts())\n",
    "\n",
    "print(df['loan_end'].value_counts())\n",
    "\n",
    "print(df['rate'].value_counts())\n"
   ]
  },
  {
   "cell_type": "code",
   "execution_count": null,
   "id": "23960d1d-bfe0-4ae1-9fdf-174a3624566a",
   "metadata": {},
   "outputs": [],
   "source": [
    "# Detecting missing values\n",
    "missing_values = df.isnull().sum()\n",
    "print('Missing values in each column:\\n', missing_values)\n",
    "\n",
    "# 1: Drop rows with missing values\n",
    "df_dropped = df.dropna()\n",
    "print('Shape after dropping rows with missing values: ', df_dropped.shape)\n",
    "\n",
    "# 2: Fill missing values with mean (for numerical columns)\n",
    "df_filled = df.fillna(df.mean(numeric_only=True))\n",
    "print('Number of missing values after filling with mean:\\n', df_filled.isnull().sum())\n",
    "\n",
    "# 3: Fill missing values with mode (for categorical columns)\n",
    "for column in df.select_dtypes(include=['object']).columns:\n",
    "    df_filled[column] = df_filled[column].fillna(df_filled[column].mode()[0])\n",
    "\n",
    "print('Number of missing values after filling with mode:\\n', df_filled.isnull().sum())\n"
   ]
  },
  {
   "cell_type": "code",
   "execution_count": null,
   "id": "4a265257-e9dd-4a0f-bc16-0272adc24e33",
   "metadata": {},
   "outputs": [],
   "source": [
    "# Remove outliers\n",
    "df_final = df_filled\n",
    "\n",
    "def detect_outliers_iqr(data):\n",
    "    outliers = []\n",
    "    for column in data.select_dtypes(include = [np.number]).columns:\n",
    "        Q1 = data[column].quantile(0.25)\n",
    "        Q3 = data[column].quantile(0.75)\n",
    "        IQR = Q3 - Q1\n",
    "        lower_bound = Q1 - 1.5 * IQR\n",
    "        upper_bound = Q3 + 1.5 * IQR\n",
    "        outliers.extend(data[(data[column] < lower_bound) | (data[column] > upper_bound)].index)\n",
    "    return outliers\n",
    "\n",
    "outliers = detect_outliers_iqr(df_final)\n",
    "print('Number of outliers detected: ', len(outliers))\n",
    "\n",
    "df_no_outliers = df.drop(outliers)\n",
    "print('Shape after removing outliers: ', df_no_outliers.shape)"
   ]
  },
  {
   "cell_type": "code",
   "execution_count": null,
   "id": "8be1b40f-b4ff-41db-adda-dc122a34c04f",
   "metadata": {},
   "outputs": [],
   "source": [
    "df_final_outliers = df_no_outliers\n",
    "# Transforming variables if necessary\n",
    "# Log transformation (avoid log(0) by adding a small constant)\n",
    "df_transformed = df_final_outliers.copy()\n",
    "for column in df_transformed.select_dtypes(include=[np.number]).columns:\n",
    "    df_transformed[column] = np.log1p(df_transformed[column])  # log1p is log(1 + x) to handle zero values\n",
    "\n",
    "print('Data after log transformation:\\n', df_transformed.describe())\n",
    "\n",
    "# Choose one of the transformations for further analysis\n",
    "df_final_transformed = df_transformed  "
   ]
  },
  {
   "cell_type": "code",
   "execution_count": null,
   "id": "55775e91-e64c-437c-88d4-335035734ef6",
   "metadata": {},
   "outputs": [],
   "source": [
    "# Scaling numerical variables\n",
    "scaler_standard = StandardScaler()\n",
    "# Apply standard scaling\n",
    "df_standard_scaled = df_final_transformed.copy()\n",
    "df_standard_scaled[df_standard_scaled.select_dtypes(include=[np.number]).columns] = scaler_standard.fit_transform(df_standard_scaled.select_dtypes(include=[np.number]))\n",
    "\n",
    "print('Data after standard scaling:\\n', df_standard_scaled.describe())\n",
    "df_final_scaled = df_standard_scaled"
   ]
  },
  {
   "cell_type": "code",
   "execution_count": null,
   "id": "3b18efa1-f257-496a-b57e-c19dc5f2956b",
   "metadata": {},
   "outputs": [],
   "source": [
    "# Encoding categorical variables\n",
    "# Label Encoding\n",
    "label_encoder = LabelEncoder()\n",
    "df_label_encoded = df_final_scaled.copy()\n",
    "for column in df_final_scaled.select_dtypes(include=['object']).columns:\n",
    "    df_final_scaled[column] = label_encoder.fit_transform(df_final_scaled[column])\n",
    "\n",
    "print('Data after label encoding:\\n', df_label_encoded.head())\n",
    "\n",
    "# OneHot Encoding\n",
    "onehot_encoder = OneHotEncoder(sparse_output = False, drop ='first')\n",
    "df_onehot_encoded = df_final_scaled.copy()\n",
    "categorical_columns = df_onehot_encoded.select_dtypes(include = ['object']).columns\n",
    "onehot_encoded = onehot_encoder.fit_transform(df_onehot_encoded[categorical_columns])\n",
    "onehot_encoded_df = pd.DataFrame(onehot_encoded, columns = onehot_encoder.get_feature_names_out(categorical_columns))\n",
    "\n",
    "# Concatenate OneHot encoded columns with original dataframe\n",
    "df_onehot_encoded = df_onehot_encoded.drop(categorical_columns, axis = 1)\n",
    "df_onehot_encoded = pd.concat([df_onehot_encoded, onehot_encoded_df], axis = 1)\n",
    "\n",
    "print('Data after one-hot encoding:\\n', df_onehot_encoded.head())\n",
    "\n",
    "df_final_encoded = df_label_encoded \n"
   ]
  },
  {
   "cell_type": "code",
   "execution_count": 10,
   "id": "db88d083-dd0b-46f6-ab85-9a539415fc1a",
   "metadata": {},
   "outputs": [],
   "source": [
    "# Creating interaction features\n",
    "interaction_features = pd.DataFrame()\n",
    "\n",
    "interaction_features['loan_amount_rate_interaction'] = df_final_encoded['loan_amount'] * df_final_encoded['rate']\n",
    "\n",
    "# Add interaction features to the original dataframe\n",
    "df_final_with_interaction = pd.concat([df_final_encoded, interaction_features], axis = 1)\n",
    "\n",
    "\n"
   ]
  },
  {
   "cell_type": "code",
   "execution_count": 11,
   "id": "72a77b70-224b-4ffb-8e79-3c62c9e8f6b7",
   "metadata": {},
   "outputs": [],
   "source": [
    "# Splitting the dataset into features (X) and target variable (y)\n",
    "X = df_final_with_interaction.drop('rate', axis = 1)\n",
    "y = df_final_with_interaction['rate']\n",
    "\n",
    "# Splitting the dataset into training and testing sets (70% train, 30% test)\n",
    "X_train, X_test, y_train, y_test = train_test_split(X, y, test_size = 0.3, random_state = 42)\n"
   ]
  }
 ],
 "metadata": {
  "kernelspec": {
   "display_name": "Python 3 (ipykernel)",
   "language": "python",
   "name": "python3"
  },
  "language_info": {
   "codemirror_mode": {
    "name": "ipython",
    "version": 3
   },
   "file_extension": ".py",
   "mimetype": "text/x-python",
   "name": "python",
   "nbconvert_exporter": "python",
   "pygments_lexer": "ipython3",
   "version": "3.12.3"
  }
 },
 "nbformat": 4,
 "nbformat_minor": 5
}
